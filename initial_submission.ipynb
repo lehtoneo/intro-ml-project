{
 "cells": [
  {
   "cell_type": "code",
   "execution_count": null,
   "metadata": {},
   "outputs": [],
   "source": [
    "import pandas as pd\n",
    "import numpy as np\n",
    "import matplotlib.pyplot as plt\n",
    "import seaborn as sns\n",
    "np.random.seed(0)\n"
   ]
  },
  {
   "cell_type": "code",
   "execution_count": null,
   "metadata": {},
   "outputs": [],
   "source": [
    "# estimator: RFECV(estimator=LinearSVC(penalty=\"l1\", C=0.75, dual=False, random_state=0), step=1, cv=StratifiedKFold(10), scoring=\"accuracy\"))\n",
    "# model: RandomForestClassifier(random_state=0)"
   ]
  }
 ],
 "metadata": {
  "language_info": {
   "name": "python"
  },
  "orig_nbformat": 4
 },
 "nbformat": 4,
 "nbformat_minor": 2
}
