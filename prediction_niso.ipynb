{
 "cells": [
  {
   "cell_type": "markdown",
   "metadata": {},
   "source": [
    "# Training data"
   ]
  },
  {
   "cell_type": "code",
   "execution_count": 1,
   "metadata": {},
   "outputs": [],
   "source": [
    "import pandas as pd\n",
    "import numpy as np\n",
    "import matplotlib.pyplot as plt\n",
    "import seaborn as sns\n",
    "\n",
    "# imports\n",
    "# feature selection\n",
    "from sklearn.model_selection import StratifiedKFold\n",
    "from sklearn.feature_selection import RFECV\n",
    "from sklearn.preprocessing import StandardScaler\n",
    "from sklearn.feature_selection import VarianceThreshold\n",
    "from sklearn.svm import LinearSVC\n",
    "from sklearn.svm import SVR\n",
    "\n",
    "# models\n",
    "from sklearn.pipeline import Pipeline\n",
    "from sklearn import svm\n",
    "from sklearn.linear_model import LogisticRegression\n",
    "from sklearn.tree import DecisionTreeClassifier\n",
    "from sklearn.ensemble import RandomForestClassifier\n",
    "from sklearn.neighbors import KNeighborsClassifier\n",
    "from sklearn.naive_bayes import GaussianNB\n",
    "\n",
    "# scoring\n",
    "from sklearn.model_selection import cross_val_score\n",
    "from sklearn.metrics import accuracy_score\n",
    "\n",
    "np.random.seed(0)\n",
    "\n",
    "df = pd.read_csv('npf_train.csv')\n",
    "\n",
    "class2 = np.array([\"event\"]*df.shape[0], dtype=\"object\")\n",
    "class2[df[\"class4\"]==\"nonevent\"] = \"nonevent\"\n",
    "df[\"class2\"] = class2\n",
    "df[\"class2\"] = df[\"class2\"].astype(\"category\")\n",
    "\n",
    "not_needed_columns = [\"partlybad\", \"id\", \"date\"]\n",
    "df = df.drop(not_needed_columns, axis=1)\n",
    "\n",
    "class2_categories = {\n",
    "    \"nonevent\": 0,\n",
    "    \"event\": 1\n",
    "}\n",
    "\n",
    "class4_categories = {\n",
    "    \"nonevent\": 0,\n",
    "    \"Ia\": 1,\n",
    "    \"Ib\": 2,\n",
    "    \"II\": 3\n",
    "}\n",
    "\n",
    "def categorize_class2(row):\n",
    "    row[\"class2\"] = class2_categories[row[\"class2\"]]\n",
    "    \n",
    "    return row\n",
    "def categorize_class4(row):\n",
    "    row[\"class4\"] = class4_categories[row[\"class4\"]]\n",
    "    \n",
    "    return row\n",
    "\n",
    "df = df.apply(lambda row: categorize_class2(row), axis=1)\n",
    "df = df.apply(lambda row: categorize_class4(row), axis=1)\n",
    "df[\"class2\"] = df[\"class2\"].astype(\"category\")\n",
    "df[\"class4\"] = df[\"class4\"].astype(\"category\")\n",
    "\n",
    "df = df.sample(frac=1).reset_index(drop=True)"
   ]
  },
  {
   "cell_type": "markdown",
   "metadata": {},
   "source": [
    "# Training"
   ]
  },
  {
   "cell_type": "code",
   "execution_count": 3,
   "metadata": {},
   "outputs": [],
   "source": [
    "# Variables for results\n",
    "initial_result = {}\n",
    "result_df = pd.DataFrame(data=initial_result)\n",
    "\n",
    "# Parameters\n",
    "y_col = \"class4\"\n",
    "cv_features = StratifiedKFold(10)\n",
    "cv = 10\n",
    "step_features = 1\n",
    "\n",
    "# Data\n",
    "X_cols = list(filter(lambda col: col != y_col and col != \"class2\", df.columns))\n",
    "X_train = df[X_cols]\n",
    "y_train = df[y_col]\n",
    "\n",
    "# Train\n",
    "clf = RandomForestClassifier(random_state=0)\n",
    "estimator = RandomForestClassifier(random_state=0)\n",
    "pipe = Pipeline(\n",
    "    [('scaler', StandardScaler()), \n",
    "    (\"feature_selection\", RFECV(estimator=estimator, step=step_features, cv=cv_features, scoring=\"accuracy\")), \n",
    "    (\"clf\", clf)]\n",
    ")\n",
    "\n",
    "scores = cross_val_score(pipe, X_train, y_train, cv=cv)\n",
    "cv_score = scores.mean()\n",
    "\n",
    "# Fitted model\n",
    "pipe.fit(X_train, y_train)"
   ]
  },
  {
   "cell_type": "markdown",
   "metadata": {},
   "source": [
    "# Prediction"
   ]
  },
  {
   "cell_type": "code",
   "execution_count": null,
   "metadata": {},
   "outputs": [],
   "source": [
    "chosen_features =  list(X_train.columns[pipe.steps[1][1].support_]), \n",
    "\n",
    "# Read and clean the test data\n",
    "df = pd.read_csv('npf_test_hidden.csv')\n",
    "\n",
    "class2 = np.array([\"event\"]*df.shape[0],dtype=\"object\")\n",
    "class2[df[\"class4\"]==\"nonevent\"] = \"nonevent\"\n",
    "df[\"class2\"] = class2\n",
    "df[\"class2\"] = df[\"class2\"].astype(\"category\")\n",
    "\n",
    "not_needed_columns = [\"partlybad\", \"id\", \"date\", \"class4\"]\n",
    "df = df.drop(not_needed_columns, axis=1)\n",
    "\n",
    "X_df = df.loc[:, ~df.columns.isin(['class2', 'class4'])].copy()\n",
    "X = X_df.values\n",
    "\n",
    "pred = pipe.predict_proba(X)\n"
   ]
  },
  {
   "cell_type": "markdown",
   "metadata": {},
   "source": [
    "# Results"
   ]
  },
  {
   "cell_type": "code",
   "execution_count": null,
   "metadata": {},
   "outputs": [],
   "source": [
    "# p column\n",
    "p_nonevent = pred[:,0]\n",
    "p_event = np.sum(pred[:,1:], axis=1)\n",
    "np.stack((p_nonevent, p_event))\n",
    "\n",
    "results = pd.DataFrame(data={\"nonevent\":pred[:,0], \"Ia\":pred[:,1], \"Ib\":pred[:,2], \"II\":pred[:,3], \"prediction\":np.argmax(pred, axis=1), \"p\":p_event})\n",
    "results"
   ]
  },
  {
   "cell_type": "code",
   "execution_count": null,
   "metadata": {},
   "outputs": [],
   "source": [
    "# accuracy\n",
    "cv_score"
   ]
  }
 ],
 "metadata": {
  "interpreter": {
   "hash": "be37138428233cdec5355dfbe24ae545a85d1692e5f3b1975f132f061e2c454d"
  },
  "kernelspec": {
   "display_name": "Python 3.8.5 64-bit ('base': conda)",
   "language": "python",
   "name": "python3"
  },
  "language_info": {
   "codemirror_mode": {
    "name": "ipython",
    "version": 3
   },
   "file_extension": ".py",
   "mimetype": "text/x-python",
   "name": "python",
   "nbconvert_exporter": "python",
   "pygments_lexer": "ipython3",
   "version": "3.8.5"
  },
  "orig_nbformat": 4
 },
 "nbformat": 4,
 "nbformat_minor": 2
}
