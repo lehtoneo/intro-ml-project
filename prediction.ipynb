{
 "cells": [
  {
   "cell_type": "code",
   "execution_count": 1,
   "metadata": {},
   "outputs": [],
   "source": [
    "import pandas as pd\n",
    "import numpy as np\n",
    "import matplotlib.pyplot as plt\n",
    "import seaborn as sns\n",
    "\n",
    "import sklearn.preprocessing\n",
    "import sklearn.decomposition\n",
    "import sklearn.model_selection\n",
    "import sklearn.svm\n",
    "import sklearn.inspection\n",
    "import sklearn.feature_selection\n",
    "from sklearn.experimental import enable_halving_search_cv"
   ]
  },
  {
   "cell_type": "code",
   "execution_count": 5,
   "metadata": {},
   "outputs": [],
   "source": [
    "import sklearn.pipeline\n",
    "import sklearn.ensemble"
   ]
  },
  {
   "cell_type": "code",
   "execution_count": 2,
   "metadata": {},
   "outputs": [],
   "source": [
    "df = pd.read_csv('npf_train.csv')\n",
    "\n",
    "class2 = np.array([\"event\"]*df.shape[0],dtype=\"object\")\n",
    "class2[df[\"class4\"]==\"nonevent\"] = \"nonevent\"\n",
    "df[\"class2\"] = class2\n",
    "df[\"class2\"] = df[\"class2\"].astype(\"category\")\n",
    "\n",
    "not_needed_columns = [\"partlybad\", \"id\", \"date\"]\n",
    "df = df.drop(not_needed_columns, axis=1)\n",
    "\n",
    "class2_categories = {\n",
    "    \"nonevent\": 0,\n",
    "    \"event\": 1\n",
    "}\n",
    "\n",
    "class4_categories = {\n",
    "    \"nonevent\": 0,\n",
    "    \"Ia\": 1,\n",
    "    \"Ib\": 2,\n",
    "    \"II\": 3\n",
    "}\n",
    "\n",
    "def categorize_class2(row):\n",
    "    row[\"class2\"] = class2_categories[row[\"class2\"]]\n",
    "    \n",
    "    return row\n",
    "def categorize_class4(row):\n",
    "    row[\"class4\"] = class4_categories[row[\"class4\"]]\n",
    "    \n",
    "    return row\n",
    "\n",
    "df = df.apply(lambda row: categorize_class2(row), axis=1)\n",
    "df = df.apply(lambda row: categorize_class4(row), axis=1)\n",
    "df[\"class2\"] = df[\"class2\"].astype(\"category\")\n",
    "df[\"class4\"] = df[\"class4\"].astype(\"category\")"
   ]
  },
  {
   "cell_type": "code",
   "execution_count": 3,
   "metadata": {},
   "outputs": [],
   "source": [
    "X_df = df.loc[:, ~df.columns.isin(['class2', 'class4'])].copy()\n",
    "Y_2 = df['class2'].copy()\n",
    "Y_4 = df['class4'].copy()\n",
    "\n",
    "X = X_df.values\n",
    "y_2 = Y_2.values\n",
    "y_4 = Y_4.values"
   ]
  },
  {
   "cell_type": "code",
   "execution_count": 164,
   "metadata": {},
   "outputs": [],
   "source": [
    "# Feature selection using Recursive feature elimination with cross-validation\n",
    "\n",
    "def feature_selection_RFE(X, y):\n",
    "    pipeline_rfe = sklearn.pipeline.Pipeline(\n",
    "                        [('scaler', sklearn.preprocessing.StandardScaler()), \n",
    "                        ('feature_selection', sklearn.feature_selection.RFECV(\n",
    "                                                estimator=sklearn.svm.LinearSVC(penalty=\"l1\", C=0.75, \n",
    "                                                max_iter=10**5, dual=False, random_state=0), n_jobs=6,\n",
    "                                                step=1, cv=10, scoring=\"accuracy\", min_features_to_select=1))]\n",
    "    )\n",
    "    \n",
    "    pipeline_rfe.fit(X, y)\n",
    "    return pipeline_rfe\n",
    "\n",
    "def feature_selection_RFE_RFC(X, y):\n",
    "    pipeline = sklearn.pipeline.Pipeline(\n",
    "                        [('scaler', sklearn.preprocessing.StandardScaler()), \n",
    "                        ('feature_selection', sklearn.feature_selection.RFECV(\n",
    "                                                estimator=sklearn.ensemble.RandomForestClassifier(\n",
    "                                                    n_estimators=200, random_state=0), n_jobs=6,\n",
    "                                                step=1, cv=10, scoring=\"accuracy\", min_features_to_select=1))]\n",
    "    )\n",
    "    \n",
    "    pipeline.fit(X, y)\n",
    "    return pipeline\n",
    "\n",
    "def plot_feature_importance(pipeline_rfe):\n",
    "    \n",
    "    fig, ax = plt.subplots(figsize=(10, 6))\n",
    "    sns.lineplot(x=range(1, len(pipeline_rfe[1].cv_results_['mean_test_score'])+1), \n",
    "                 y=pipeline_rfe[1].cv_results_['mean_test_score'], label='LinearSVC', ax=ax)\n",
    "    ax.set_xlabel('Number of features selected')\n",
    "    ax.set_ylabel('Cross validation score (accuracy)')\n",
    "    ax.axvline(x=np.argmax(pipeline_rfe[1].cv_results_['mean_test_score'])+1, c='r')\n",
    "    plt.show()\n",
    "    \n",
    "    print('Best number of features: ', np.argmax(pipeline_rfe[1].cv_results_['mean_test_score'])+1)\n",
    "    \n",
    "    return fig, ax"
   ]
  },
  {
   "cell_type": "code",
   "execution_count": 145,
   "metadata": {},
   "outputs": [],
   "source": [
    "# Feature selection using Permutation importance score\n",
    "\n",
    "def feature_selection_PI(estimator, X, y, th):\n",
    "    \n",
    "    estimator.fit(X, y)\n",
    "\n",
    "    feature_importance_search = sklearn.inspection.permutation_importance(\n",
    "                                estimator, X, y, n_repeats=100, n_jobs=4)\n",
    "    \n",
    "    fig, ax = plt.subplots(figsize=(20, 6))\n",
    "    ax = sns.scatterplot(x=X_df.columns, y=feature_importance_search.importances_mean, ax=ax)\n",
    "    ax.tick_params(axis='x', labelrotation=90)\n",
    "    ax.axhline(th, c='r', ls=':')\n",
    "    ax.axhline(-th, c='r', ls=':')\n",
    "    plt.show()\n",
    "\n",
    "    selected_features_pi = X_df.columns[np.where(np.abs(feature_importance_search.importances_mean) > th)]\n",
    "    selected_features_idx_pi = np.where(np.abs(feature_importance_search.importances_mean) > th)[0]\n",
    "    \n",
    "    return feature_importance_search, selected_features_pi, selected_features_idx_pi"
   ]
  },
  {
   "cell_type": "code",
   "execution_count": 74,
   "metadata": {},
   "outputs": [],
   "source": [
    "# Selected classifier: RandomForestClassifier\n",
    "\n",
    "def predictor_RFC(X, y):\n",
    "    pipeline_rf = sklearn.pipeline.Pipeline(\n",
    "                    [('scaler', sklearn.preprocessing.StandardScaler()), \n",
    "                     #(\"feature_selection\", sklearn.feature_selection.RFECV(\n",
    "                     #                        estimator=sklearn.svm.LinearSVC(penalty=\"l1\", C=0.75, max_iter=10**5,\n",
    "                     #                                                        dual=False, random_state=0), \n",
    "                     #                        cv=10, scoring=\"accuracy\")), \n",
    "                     ('clf', sklearn.ensemble.RandomForestClassifier(random_state=0))]\n",
    "        )\n",
    "    \n",
    "    param_grid = {'clf__n_estimators':np.arange(10, 210, 10), 'clf__criterion':['gini', 'entropy']}\n",
    "    param_search = sklearn.model_selection.HalvingGridSearchCV(pipeline_rf, param_grid, cv=10, n_jobs=4)\n",
    "    \n",
    "    param_search.fit(X, y)\n",
    "    \n",
    "    print('Best RFC model: ', param_search.best_params_, param_search.best_score_)\n",
    "    \n",
    "    best_n_estimators = param_search.best_params_['clf__n_estimators']\n",
    "    best_criterion = param_search.best_params_['clf__criterion']\n",
    "    \n",
    "    pipeline_rf_best = sklearn.pipeline.Pipeline(\n",
    "                        [('scaler', sklearn.preprocessing.StandardScaler()), \n",
    "                         ('clf', sklearn.ensemble.RandomForestClassifier(n_estimators=best_n_estimators, \n",
    "                                                                         criterion=best_criterion, \n",
    "                                                                         random_state=0))]\n",
    "        )\n",
    "\n",
    "    cv_scores = sklearn.model_selection.cross_val_score(pipeline_rf_best, X, y, cv=10)\n",
    "    \n",
    "    print('Prediction accuracy: ', np.mean(cv_scores))\n",
    "    \n",
    "    return param_search, pipeline_rf_best, cv_scores"
   ]
  },
  {
   "cell_type": "code",
   "execution_count": 151,
   "metadata": {},
   "outputs": [],
   "source": [
    "# Selected classifier: GradientBoostingClassifier\n",
    "\n",
    "def predictor_GBC(X, y):\n",
    "    pipeline = sklearn.pipeline.Pipeline(\n",
    "                    [('scaler', sklearn.preprocessing.StandardScaler()), \n",
    "                     #(\"feature_selection\", sklearn.feature_selection.RFECV(\n",
    "                     #                        estimator=sklearn.svm.LinearSVC(penalty=\"l1\", C=0.75, max_iter=10**5,\n",
    "                     #                                                        dual=False, random_state=0), \n",
    "                     #                        cv=10, scoring=\"accuracy\")), \n",
    "                     ('clf', sklearn.ensemble.GradientBoostingClassifier(random_state=0))]\n",
    "        )\n",
    "    \n",
    "    param_grid = {'clf__n_estimators':np.arange(20, 410, 20), 'clf__learning_rate':[0.0001, 0.001, 0.1, 1, 10]}\n",
    "    param_search = sklearn.model_selection.HalvingGridSearchCV(pipeline, param_grid, cv=10, n_jobs=4)\n",
    "    \n",
    "    param_search.fit(X, y)\n",
    "    \n",
    "    print('Best GBC model: ', param_search.best_params_, param_search.best_score_)\n",
    "    \n",
    "    best_n_estimators = param_search.best_params_['clf__n_estimators']\n",
    "    best_learning_rate = param_search.best_params_['clf__learning_rate']\n",
    "    \n",
    "    pipeline_best = sklearn.pipeline.Pipeline(\n",
    "                        [('scaler', sklearn.preprocessing.StandardScaler()), \n",
    "                         ('clf', sklearn.ensemble.GradientBoostingClassifier(n_estimators=best_n_estimators, \n",
    "                                                                         learning_rate=best_learning_rate, \n",
    "                                                                         random_state=0))]\n",
    "        )\n",
    "\n",
    "    cv_scores = sklearn.model_selection.cross_val_score(pipeline_best, X, y, cv=10)\n",
    "    \n",
    "    print('Prediction accuracy: ', np.mean(cv_scores))\n",
    "    \n",
    "    return param_search, pipeline_best, cv_scores"
   ]
  },
  {
   "cell_type": "code",
   "execution_count": 166,
   "metadata": {},
   "outputs": [],
   "source": [
    "# Selected classifier: SVC\n",
    "\n",
    "def predictor_SVC(X, y):\n",
    "    pipeline = sklearn.pipeline.Pipeline(\n",
    "                    [('scaler', sklearn.preprocessing.StandardScaler()), \n",
    "                     #(\"feature_selection\", sklearn.feature_selection.RFECV(\n",
    "                     #                        estimator=sklearn.svm.LinearSVC(penalty=\"l1\", C=0.75, max_iter=10**5,\n",
    "                     #                                                        dual=False, random_state=0), \n",
    "                     #                        cv=10, scoring=\"accuracy\")), \n",
    "                     ('clf', sklearn.svm.SVC(random_state=0))]\n",
    "        )\n",
    "    \n",
    "    param_grid = {\n",
    "                    'clf__C':10.0**np.arange(-5, 6),\n",
    "                    'clf__kernel':['poly', 'rbf', 'sigmoid'],\n",
    "                    'clf__degree':np.arange(1, 11),\n",
    "                    }\n",
    "    \n",
    "    param_search = sklearn.model_selection.HalvingGridSearchCV(pipeline, param_grid, cv=10, n_jobs=4)\n",
    "    \n",
    "    param_search.fit(X, y)\n",
    "    \n",
    "    print('Best SVC model: ', param_search.best_params_, param_search.best_score_)\n",
    "    \n",
    "    best_C = param_search.best_params_['clf__C']\n",
    "    best_kernel = param_search.best_params_['clf__kernel']\n",
    "    best_degree = param_search.best_params_['clf__degree']\n",
    "    \n",
    "    pipeline_best = sklearn.pipeline.Pipeline(\n",
    "                        [('scaler', sklearn.preprocessing.StandardScaler()), \n",
    "                         ('clf', sklearn.svm.SVC(C=best_C, kernel=best_kernel, \n",
    "                                                          degree=best_degree, random_state=0))]\n",
    "        )\n",
    "\n",
    "    cv_scores = sklearn.model_selection.cross_val_score(pipeline_best, X, y, cv=10)\n",
    "    \n",
    "    print('CV prediction accuracy: ', np.mean(cv_scores))\n",
    "    \n",
    "    return param_search, pipeline_best, cv_scores"
   ]
  },
  {
   "cell_type": "code",
   "execution_count": 155,
   "metadata": {},
   "outputs": [],
   "source": [
    "# Selected classifier: SVC + precomputed kernels\n",
    "\n",
    "def predictor_KSVC(K_dict, y):\n",
    "    \n",
    "    result_list = []\n",
    "    \n",
    "    for name, K in K_dict.items():\n",
    "        \n",
    "        params_C = 10.0**np.arange(-8, 8)\n",
    "        \n",
    "        for c in params_C:\n",
    "\n",
    "            SVC = sklearn.svm.SVC(C=c, kernel='precomputed', random_state=0)\n",
    "            \n",
    "            SKFold = sklearn.model_selection.StratifiedKFold(n_splits=10, random_state=None)\n",
    "            cv_acc = []\n",
    "            for idx_train, idx_test in SKFold.split(X, y):\n",
    "                K_train, K_test = K[idx_train, :][:, idx_train], K[idx_test, :][:, idx_train]\n",
    "                y_train, y_test = y[idx_train], y[idx_test]\n",
    "\n",
    "                SVC.fit(K_train, y_train)\n",
    "                cv_acc.append(SVC.score(K_test, y_test))\n",
    "                result_list.append([name, c, np.mean(cv_acc)])\n",
    "            \n",
    "    result_df = pd.DataFrame(result_list, columns=['Kernel', 'C', 'CV accuracy'])\n",
    "    \n",
    "    return result_df"
   ]
  },
  {
   "cell_type": "markdown",
   "metadata": {},
   "source": [
    "## class 2 training"
   ]
  },
  {
   "cell_type": "code",
   "execution_count": 75,
   "metadata": {
    "scrolled": false
   },
   "outputs": [
    {
     "data": {
      "image/png": "[encoded data removed]",
      "text/plain": [
       "<Figure size 720x432 with 1 Axes>"
      ]
     },
     "metadata": {
      "needs_background": "light"
     },
     "output_type": "display_data"
    },
    {
     "name": "stdout",
     "output_type": "stream",
     "text": [
      "Best number of features:  16\n"
     ]
    },
    {
     "data": {
      "text/plain": [
       "(<Figure size 720x432 with 1 Axes>,\n",
       " <AxesSubplot:xlabel='Number of features selected', ylabel='Cross validation score (accuracy)'>)"
      ]
     },
     "execution_count": 75,
     "metadata": {},
     "output_type": "execute_result"
    }
   ],
   "source": [
    "pipeline_rfe_c2 = feature_selection_RFE(X, y_2)\n",
    "\n",
    "plot_feature_importance(pipeline_rfe_c2)"
   ]
  },
  {
   "cell_type": "code",
   "execution_count": 76,
   "metadata": {},
   "outputs": [
    {
     "name": "stdout",
     "output_type": "stream",
     "text": [
      "Selected features:  ['CO2336.std' 'H2O336.std' 'H2O42.std' 'H2O504.mean' 'NOx672.mean'\n",
      " 'O3672.mean' 'PAR.mean' 'PAR.std' 'RHIRGA168.std' 'RHIRGA672.mean'\n",
      " 'SWS.mean' 'SWS.std' 'T42.std' 'T672.std' 'UV_A.mean' 'CS.mean']\n"
     ]
    }
   ],
   "source": [
    "# Selected features\n",
    "\n",
    "selected_features_rfe_c2 = pipeline_rfe_c2.get_feature_names_out(X_df.columns)\n",
    "selected_features_idx_rfe_c2 = np.array([list(X_df.columns).index(i) for i in selected_features_rfe_c2])\n",
    "\n",
    "print('Selected features: ', selected_features_rfe_c2)"
   ]
  },
  {
   "cell_type": "code",
   "execution_count": 77,
   "metadata": {},
   "outputs": [],
   "source": [
    "X_selected_c2 = X[:, selected_features_idx_rfe_c2]"
   ]
  },
  {
   "cell_type": "code",
   "execution_count": 211,
   "metadata": {
    "scrolled": true
   },
   "outputs": [
    {
     "name": "stdout",
     "output_type": "stream",
     "text": [
      "Best RFC model:  {'clf__criterion': 'entropy', 'clf__n_estimators': 170} 0.8463492063492064\n",
      "Prediction accuracy:  0.8601449275362321\n"
     ]
    }
   ],
   "source": [
    "param_search_c2, pipeline_rf_best_c2, cv_scores_c2 = predictor_RFC(X_selected_c2, y_2)"
   ]
  },
  {
   "cell_type": "code",
   "execution_count": 82,
   "metadata": {},
   "outputs": [
    {
     "name": "stdout",
     "output_type": "stream",
     "text": [
      "class2 model on class4 accuracy:  0.6483091787439613\n"
     ]
    }
   ],
   "source": [
    "# class2 model on class4\n",
    "\n",
    "cv_scores_c4 = sklearn.model_selection.cross_val_score(pipeline_rf_best_c2, X_selected_c2, y_4, cv=10)\n",
    "print('class2 model on class4 accuracy: ', np.mean(cv_scores_c4))"
   ]
  },
  {
   "cell_type": "code",
   "execution_count": 180,
   "metadata": {},
   "outputs": [
    {
     "data": {
      "image/png": "[encoded data removed]",
      "text/plain": [
       "<Figure size 720x432 with 1 Axes>"
      ]
     },
     "metadata": {
      "needs_background": "light"
     },
     "output_type": "display_data"
    },
    {
     "name": "stdout",
     "output_type": "stream",
     "text": [
      "Best number of features:  65\n",
      "Selected features:  ['CO2168.mean' 'CO2168.std' 'CO2336.mean' 'CO2336.std' 'CO242.mean'\n",
      " 'CO242.std' 'CO2504.mean' 'CO2504.std' 'Glob.mean' 'H2O168.mean'\n",
      " 'H2O336.mean' 'H2O42.mean' 'H2O504.mean' 'H2O672.mean' 'H2O84.mean'\n",
      " 'NET.mean' 'NET.std' 'NO168.mean' 'NO336.mean' 'NO336.std' 'NO504.std'\n",
      " 'NO672.mean' 'NO672.std' 'NO84.mean' 'NOx168.mean' 'NOx336.mean'\n",
      " 'NOx42.mean' 'NOx504.mean' 'NOx672.mean' 'NOx84.mean' 'O3168.mean'\n",
      " 'O342.mean' 'O3504.mean' 'O3672.mean' 'O3672.std' 'O384.mean' 'PAR.mean'\n",
      " 'RGlob.mean' 'RGlob.std' 'RHIRGA168.mean' 'RHIRGA168.std'\n",
      " 'RHIRGA336.mean' 'RHIRGA336.std' 'RHIRGA42.mean' 'RHIRGA42.std'\n",
      " 'RHIRGA504.mean' 'RHIRGA504.std' 'RHIRGA672.mean' 'RHIRGA672.std'\n",
      " 'RHIRGA84.mean' 'RHIRGA84.std' 'RPAR.mean' 'SO2168.mean' 'SWS.mean'\n",
      " 'SWS.std' 'T168.mean' 'T42.mean' 'T42.std' 'T504.mean' 'T672.mean'\n",
      " 'T84.mean' 'T84.std' 'UV_A.mean' 'CS.mean' 'CS.std']\n",
      "Best RFC model:  {'clf__criterion': 'gini', 'clf__n_estimators': 70} 0.8633333333333333\n",
      "Prediction accuracy:  0.8582125603864735\n"
     ]
    }
   ],
   "source": [
    "# RFECV (RFC) + RFC CV\n",
    "\n",
    "pipeline_rfe_rfc_c2 = feature_selection_RFE_RFC(X, y_2)\n",
    "\n",
    "plot_feature_importance(pipeline_rfe_rfc_c2)\n",
    "\n",
    "# Selected features\n",
    "\n",
    "selected_features_rfe_rfc_c2 = pipeline_rfe_rfc_c2.get_feature_names_out(X_df.columns)\n",
    "selected_features_idx_rfe_rfc_c2 = np.array([list(X_df.columns).index(i) for i in selected_features_rfe_rfc_c2])\n",
    "\n",
    "print('Selected features: ', selected_features_rfe_rfc_c2)\n",
    "\n",
    "X_selected_rfc_c2 = X[:, selected_features_idx_rfe_rfc_c2]\n",
    "\n",
    "param_search_c2_n, pipeline_rf_best_c2_n, cv_scores_c2_n = predictor_RFC(X_selected_rfc_c2, y_2)"
   ]
  },
  {
   "cell_type": "markdown",
   "metadata": {},
   "source": [
    "## class 4 training "
   ]
  },
  {
   "cell_type": "code",
   "execution_count": 83,
   "metadata": {},
   "outputs": [
    {
     "data": {
      "image/png": "[encoded data removed]",
      "text/plain": [
       "<Figure size 720x432 with 1 Axes>"
      ]
     },
     "metadata": {
      "needs_background": "light"
     },
     "output_type": "display_data"
    },
    {
     "name": "stdout",
     "output_type": "stream",
     "text": [
      "Best number of features:  54\n"
     ]
    },
    {
     "data": {
      "text/plain": [
       "(<Figure size 720x432 with 1 Axes>,\n",
       " <AxesSubplot:xlabel='Number of features selected', ylabel='Cross validation score (accuracy)'>)"
      ]
     },
     "execution_count": 83,
     "metadata": {},
     "output_type": "execute_result"
    }
   ],
   "source": [
    "pipeline_rfe_c4 = feature_selection_RFE(X, y_4)\n",
    "\n",
    "plot_feature_importance(pipeline_rfe_c4)"
   ]
  },
  {
   "cell_type": "code",
   "execution_count": 165,
   "metadata": {},
   "outputs": [
    {
     "data": {
      "image/png": "[encoded data removed]",
      "text/plain": [
       "<Figure size 720x432 with 1 Axes>"
      ]
     },
     "metadata": {
      "needs_background": "light"
     },
     "output_type": "display_data"
    },
    {
     "name": "stdout",
     "output_type": "stream",
     "text": [
      "Best number of features:  13\n"
     ]
    },
    {
     "data": {
      "text/plain": [
       "(<Figure size 720x432 with 1 Axes>,\n",
       " <AxesSubplot:xlabel='Number of features selected', ylabel='Cross validation score (accuracy)'>)"
      ]
     },
     "execution_count": 165,
     "metadata": {},
     "output_type": "execute_result"
    }
   ],
   "source": [
    "pipeline_rfe_rfc_c4 = feature_selection_RFE_RFC(X, y_4)\n",
    "\n",
    "plot_feature_importance(pipeline_rfe_rfc_c4)"
   ]
  },
  {
   "cell_type": "code",
   "execution_count": 84,
   "metadata": {},
   "outputs": [
    {
     "name": "stdout",
     "output_type": "stream",
     "text": [
      "Selected features:  ['CO2168.mean' 'CO2336.std' 'CO242.std' 'CO2504.std' 'Glob.std'\n",
      " 'H2O168.std' 'H2O336.std' 'H2O42.mean' 'H2O42.std' 'H2O504.mean'\n",
      " 'H2O672.std' 'NET.std' 'NO168.mean' 'NO168.std' 'NO336.mean' 'NO336.std'\n",
      " 'NO42.mean' 'NO504.std' 'NO672.mean' 'NO672.std' 'NOx168.std'\n",
      " 'NOx336.std' 'NOx42.mean' 'NOx672.mean' 'NOx672.std' 'NOx84.std'\n",
      " 'O342.mean' 'O342.std' 'O3504.std' 'O3672.mean' 'O384.mean' 'O384.std'\n",
      " 'PAR.mean' 'PAR.std' 'PTG.std' 'RGlob.mean' 'RGlob.std' 'RHIRGA168.std'\n",
      " 'RHIRGA42.mean' 'RHIRGA42.std' 'RHIRGA672.mean' 'RHIRGA672.std'\n",
      " 'RPAR.std' 'SO2168.mean' 'SWS.mean' 'SWS.std' 'T42.std' 'T504.std'\n",
      " 'T672.mean' 'T672.std' 'T84.mean' 'UV_A.mean' 'CS.mean' 'CS.std']\n"
     ]
    }
   ],
   "source": [
    "# Selected features\n",
    "\n",
    "selected_features_rfe_c4 = pipeline_rfe_c4.get_feature_names_out(X_df.columns)\n",
    "selected_features_idx_rfe_c4 = np.array([list(X_df.columns).index(i) for i in selected_features_rfe_c4])\n",
    "\n",
    "print('Selected features: ', selected_features_rfe_c4)"
   ]
  },
  {
   "cell_type": "code",
   "execution_count": 179,
   "metadata": {},
   "outputs": [
    {
     "name": "stdout",
     "output_type": "stream",
     "text": [
      "Best RFC model:  {'clf__criterion': 'entropy', 'clf__n_estimators': 70} 0.6507246376811595\n",
      "Prediction accuracy:  0.6440579710144928\n"
     ]
    }
   ],
   "source": [
    "X_selected_c4 = X[:, selected_features_idx_rfe_c4]\n",
    "\n",
    "param_search_c4, pipeline_rf_best_c4, cv_scores_c4 = predictor_RFC(X_selected_c4, y_4)"
   ]
  },
  {
   "cell_type": "code",
   "execution_count": 177,
   "metadata": {},
   "outputs": [
    {
     "name": "stdout",
     "output_type": "stream",
     "text": [
      "Selected features:  ['H2O42.mean' 'H2O504.mean' 'H2O672.mean' 'NOx42.mean' 'RGlob.mean'\n",
      " 'RHIRGA168.mean' 'RHIRGA336.mean' 'RHIRGA42.mean' 'RHIRGA42.std'\n",
      " 'RHIRGA84.mean' 'RHIRGA84.std' 'SWS.mean' 'CS.mean']\n"
     ]
    }
   ],
   "source": [
    "# Selected features\n",
    "\n",
    "selected_features_rfe_rfc_c4 = pipeline_rfe_rfc_c4.get_feature_names_out(X_df.columns)\n",
    "selected_features_idx_rfe_rfc_c4 = np.array([list(X_df.columns).index(i) for i in selected_features_rfe_rfc_c4])\n",
    "\n",
    "print('Selected features: ', selected_features_rfe_rfc_c4)"
   ]
  },
  {
   "cell_type": "code",
   "execution_count": 178,
   "metadata": {},
   "outputs": [
    {
     "name": "stdout",
     "output_type": "stream",
     "text": [
      "Best RFC model:  {'clf__criterion': 'entropy', 'clf__n_estimators': 150} 0.6471014492753622\n",
      "Prediction accuracy:  0.6680193236714975\n"
     ]
    }
   ],
   "source": [
    "X_selected_rfc_c4 = X[:, selected_features_idx_rfe_rfc_c4]\n",
    "\n",
    "param_search_c4_n, pipeline_rf_best_c4_n, cv_scores_c4_n = predictor_RFC(X_selected_rfc_c4, y_4)"
   ]
  },
  {
   "cell_type": "markdown",
   "metadata": {},
   "source": [
    "### 2nd way of feature selection and moel traning"
   ]
  },
  {
   "cell_type": "code",
   "execution_count": 156,
   "metadata": {},
   "outputs": [
    {
     "name": "stdout",
     "output_type": "stream",
     "text": [
      "Best RFC model:  {'clf__C': 1.0, 'clf__degree': 4, 'clf__kernel': 'rbf'} 0.6088768115942029\n",
      "Prediction accuracy:  0.637536231884058\n"
     ]
    }
   ],
   "source": [
    "param_search_svc_c4, pipeline_svc_c4_best, cv_scores_svc_c4 = predictor_SVC(X, y_4)"
   ]
  },
  {
   "cell_type": "code",
   "execution_count": 146,
   "metadata": {},
   "outputs": [
    {
     "data": {
      "image/png": "[encoded data removed]",
      "text/plain": [
       "<Figure size 1440x432 with 1 Axes>"
      ]
     },
     "metadata": {
      "needs_background": "light"
     },
     "output_type": "display_data"
    }
   ],
   "source": [
    "feature_importance_search_c4, selected_features_pi_c4, selected_features_idx_pi_c4 = \\\n",
    "        feature_selection_PI(pipeline_svc_c4_best, X, y_4, 0.0002)"
   ]
  },
  {
   "cell_type": "code",
   "execution_count": 159,
   "metadata": {},
   "outputs": [
    {
     "name": "stdout",
     "output_type": "stream",
     "text": [
      "Best SVC model:  {'clf__C': 1.0, 'clf__degree': 1, 'clf__kernel': 'poly'} 0.6681159420289855\n",
      "Prediction accuracy:  0.6332367149758454\n"
     ]
    },
    {
     "data": {
      "text/plain": [
       "(HalvingGridSearchCV(cv=10,\n",
       "                     estimator=Pipeline(steps=[('scaler', StandardScaler()),\n",
       "                                               ('clf', SVC(random_state=0))]),\n",
       "                     n_jobs=4,\n",
       "                     param_grid={'clf__C': array([1.e-05, 1.e-04, 1.e-03, 1.e-02, 1.e-01, 1.e+00, 1.e+01, 1.e+02,\n",
       "        1.e+03, 1.e+04, 1.e+05]),\n",
       "                                 'clf__degree': array([ 1,  2,  3,  4,  5,  6,  7,  8,  9, 10]),\n",
       "                                 'clf__kernel': ['poly', 'rbf', 'sigmoid']}),\n",
       " Pipeline(steps=[('scaler', StandardScaler()),\n",
       "                 ('clf', SVC(degree=1, kernel='poly', random_state=0))]),\n",
       " array([0.60869565, 0.63043478, 0.52173913, 0.65217391, 0.63043478,\n",
       "        0.69565217, 0.60869565, 0.69565217, 0.68888889, 0.6       ]))"
      ]
     },
     "execution_count": 159,
     "metadata": {},
     "output_type": "execute_result"
    }
   ],
   "source": [
    "predictor_SVC(X[:, selected_features_idx_pi_c4], y_4)"
   ]
  },
  {
   "cell_type": "code",
   "execution_count": 161,
   "metadata": {},
   "outputs": [
    {
     "name": "stdout",
     "output_type": "stream",
     "text": [
      "Best GBC model:  {'clf__learning_rate': 0.1, 'clf__n_estimators': 80} 0.642572463768116\n",
      "Prediction accuracy:  0.6158937198067633\n"
     ]
    }
   ],
   "source": [
    "param_search_gb, pipeline_best_gb, cv_scores_gb = predictor_GBC(X, y_4)"
   ]
  },
  {
   "cell_type": "code",
   "execution_count": 92,
   "metadata": {},
   "outputs": [],
   "source": [
    "import scipy.spatial"
   ]
  },
  {
   "cell_type": "code",
   "execution_count": 136,
   "metadata": {},
   "outputs": [],
   "source": [
    "K_mahalanobis = scipy.spatial.distance.squareform(\n",
    "                    scipy.spatial.distance.pdist(\n",
    "                        sklearn.preprocessing.StandardScaler().fit_transform(X), metric='mahalanobis'))\n",
    "#K_js = scipy.spatial.distance.squareform(scipy.spatial.distance.pdist(X, metric='jensenshannon'))\n",
    "K_chebyshev = scipy.spatial.distance.squareform(\n",
    "                    scipy.spatial.distance.pdist(\n",
    "                        sklearn.preprocessing.StandardScaler().fit_transform(X), metric='chebyshev'))"
   ]
  },
  {
   "cell_type": "code",
   "execution_count": 148,
   "metadata": {},
   "outputs": [],
   "source": [
    "K_mahalanobis_s = scipy.spatial.distance.squareform(\n",
    "                    scipy.spatial.distance.pdist(\n",
    "                        sklearn.preprocessing.StandardScaler().fit_transform(X[:, selected_features_idx_pi_c4]), metric='mahalanobis'))\n",
    "K_chebyshev_s = scipy.spatial.distance.squareform(\n",
    "                    scipy.spatial.distance.pdist(\n",
    "                        sklearn.preprocessing.StandardScaler().fit_transform(X[:, selected_features_idx_pi_c4]), metric='chebyshev'))"
   ]
  },
  {
   "cell_type": "code",
   "execution_count": 149,
   "metadata": {},
   "outputs": [],
   "source": [
    "K_dict = {'Mahalanobis':K_mahalanobis, 'Chebyshev':K_chebyshev}\n",
    "K_s_dict = {'Mahalanobis':K_mahalanobis_s, 'Chebyshev':K_chebyshev_s}"
   ]
  },
  {
   "cell_type": "code",
   "execution_count": 150,
   "metadata": {
    "scrolled": true
   },
   "outputs": [
    {
     "data": {
      "text/plain": [
       "Kernel         Mahalanobis\n",
       "C               10000000.0\n",
       "CV accuracy       0.501235\n",
       "dtype: object"
      ]
     },
     "execution_count": 150,
     "metadata": {},
     "output_type": "execute_result"
    }
   ],
   "source": [
    "predictor_KSVC(K_s_dict, y_4).max()"
   ]
  },
  {
   "cell_type": "markdown",
   "metadata": {},
   "source": [
    "## Producing answers.csv"
   ]
  },
  {
   "cell_type": "code",
   "execution_count": 56,
   "metadata": {},
   "outputs": [],
   "source": [
    "test_df = pd.read_csv('./npf_test_hidden.csv')"
   ]
  },
  {
   "cell_type": "code",
   "execution_count": 181,
   "metadata": {},
   "outputs": [],
   "source": [
    "X_test_df = test_df[X_df.columns].copy()\n",
    "X_test = test_df[X_df.columns].values\n",
    "X_test_sel = test_df[selected_features_rfe_rfc_c4].values"
   ]
  },
  {
   "cell_type": "code",
   "execution_count": 183,
   "metadata": {},
   "outputs": [],
   "source": [
    "X_test_sel_norm = sklearn.preprocessing.StandardScaler().fit_transform(X_test_sel)"
   ]
  },
  {
   "cell_type": "code",
   "execution_count": 186,
   "metadata": {},
   "outputs": [
    {
     "data": {
      "text/plain": [
       "Pipeline(steps=[('scaler', StandardScaler()),\n",
       "                ('clf',\n",
       "                 RandomForestClassifier(criterion='entropy', n_estimators=150,\n",
       "                                        random_state=0))])"
      ]
     },
     "execution_count": 186,
     "metadata": {},
     "output_type": "execute_result"
    }
   ],
   "source": [
    "# Get class4 prediction using new model: RFECV(RFC) + RFC\n",
    "\n",
    "pipeline_rf_best_c4_n.fit(X_selected_rfc_c4, y_4)"
   ]
  },
  {
   "cell_type": "code",
   "execution_count": 193,
   "metadata": {},
   "outputs": [
    {
     "name": "stdout",
     "output_type": "stream",
     "text": [
      "class order:  [0 1 2 3]\n"
     ]
    }
   ],
   "source": [
    "print('class order: ', pipeline_rf_best_c4_n.classes_)\n",
    "y_4_pred_df = pd.DataFrame(pipeline_rf_best_c4_n.predict_proba(X_test_sel_norm), \n",
    "                           columns=['nonevent', 'Ia', 'Ib','II'])"
   ]
  },
  {
   "cell_type": "code",
   "execution_count": 199,
   "metadata": {},
   "outputs": [],
   "source": [
    "y_4_pred_df.loc[:, 'class4_RFC_pred'] = y_4_pred_df.apply(lambda x: y_4_pred_df.columns[np.argmax(x.values)],\n",
    "                                                          axis=1)"
   ]
  },
  {
   "cell_type": "code",
   "execution_count": 212,
   "metadata": {},
   "outputs": [],
   "source": [
    "X_test_sel_c2 = test_df[selected_features_rfe_c2].values\n",
    "X_test_sel_c2_norm = sklearn.preprocessing.StandardScaler().fit_transform(X_test_sel_c2)"
   ]
  },
  {
   "cell_type": "code",
   "execution_count": 213,
   "metadata": {},
   "outputs": [
    {
     "data": {
      "text/plain": [
       "Pipeline(steps=[('scaler', StandardScaler()),\n",
       "                ('clf',\n",
       "                 RandomForestClassifier(criterion='entropy', n_estimators=170,\n",
       "                                        random_state=0))])"
      ]
     },
     "execution_count": 213,
     "metadata": {},
     "output_type": "execute_result"
    }
   ],
   "source": [
    "# Get class2 envent vs. non-event probability\n",
    "\n",
    "pipeline_rf_best_c2.fit(X_selected_c2, y_2)"
   ]
  },
  {
   "cell_type": "code",
   "execution_count": 214,
   "metadata": {},
   "outputs": [
    {
     "name": "stdout",
     "output_type": "stream",
     "text": [
      "class order:  [0 1]\n"
     ]
    }
   ],
   "source": [
    "print('class order: ', pipeline_rf_best_c2.classes_)\n",
    "y_2_pred = pipeline_rf_best_c2.predict_proba(X_test_sel_c2_norm)"
   ]
  },
  {
   "cell_type": "code",
   "execution_count": 216,
   "metadata": {},
   "outputs": [],
   "source": [
    "y_4_pred_df.loc[:, 'p'] = y_2_pred[:, 1]"
   ]
  },
  {
   "cell_type": "code",
   "execution_count": 217,
   "metadata": {},
   "outputs": [
    {
     "data": {
      "text/html": [
       "<div>\n",
       "<style scoped>\n",
       "    .dataframe tbody tr th:only-of-type {\n",
       "        vertical-align: middle;\n",
       "    }\n",
       "\n",
       "    .dataframe tbody tr th {\n",
       "        vertical-align: top;\n",
       "    }\n",
       "\n",
       "    .dataframe thead th {\n",
       "        text-align: right;\n",
       "    }\n",
       "</style>\n",
       "<table border=\"1\" class=\"dataframe\">\n",
       "  <thead>\n",
       "    <tr style=\"text-align: right;\">\n",
       "      <th></th>\n",
       "      <th>nonevent</th>\n",
       "      <th>Ia</th>\n",
       "      <th>Ib</th>\n",
       "      <th>II</th>\n",
       "      <th>class4_RFC_pred</th>\n",
       "      <th>p</th>\n",
       "    </tr>\n",
       "  </thead>\n",
       "  <tbody>\n",
       "    <tr>\n",
       "      <th>0</th>\n",
       "      <td>0.186667</td>\n",
       "      <td>0.280000</td>\n",
       "      <td>0.313333</td>\n",
       "      <td>0.220000</td>\n",
       "      <td>Ib</td>\n",
       "      <td>0.523529</td>\n",
       "    </tr>\n",
       "    <tr>\n",
       "      <th>1</th>\n",
       "      <td>0.320000</td>\n",
       "      <td>0.253333</td>\n",
       "      <td>0.246667</td>\n",
       "      <td>0.180000</td>\n",
       "      <td>nonevent</td>\n",
       "      <td>0.452941</td>\n",
       "    </tr>\n",
       "    <tr>\n",
       "      <th>2</th>\n",
       "      <td>0.186667</td>\n",
       "      <td>0.280000</td>\n",
       "      <td>0.313333</td>\n",
       "      <td>0.220000</td>\n",
       "      <td>Ib</td>\n",
       "      <td>0.517647</td>\n",
       "    </tr>\n",
       "    <tr>\n",
       "      <th>3</th>\n",
       "      <td>0.180000</td>\n",
       "      <td>0.280000</td>\n",
       "      <td>0.320000</td>\n",
       "      <td>0.220000</td>\n",
       "      <td>Ib</td>\n",
       "      <td>0.505882</td>\n",
       "    </tr>\n",
       "    <tr>\n",
       "      <th>4</th>\n",
       "      <td>0.320000</td>\n",
       "      <td>0.240000</td>\n",
       "      <td>0.206667</td>\n",
       "      <td>0.233333</td>\n",
       "      <td>nonevent</td>\n",
       "      <td>0.423529</td>\n",
       "    </tr>\n",
       "    <tr>\n",
       "      <th>...</th>\n",
       "      <td>...</td>\n",
       "      <td>...</td>\n",
       "      <td>...</td>\n",
       "      <td>...</td>\n",
       "      <td>...</td>\n",
       "      <td>...</td>\n",
       "    </tr>\n",
       "    <tr>\n",
       "      <th>960</th>\n",
       "      <td>0.173333</td>\n",
       "      <td>0.280000</td>\n",
       "      <td>0.326667</td>\n",
       "      <td>0.220000</td>\n",
       "      <td>Ib</td>\n",
       "      <td>0.494118</td>\n",
       "    </tr>\n",
       "    <tr>\n",
       "      <th>961</th>\n",
       "      <td>0.173333</td>\n",
       "      <td>0.306667</td>\n",
       "      <td>0.293333</td>\n",
       "      <td>0.226667</td>\n",
       "      <td>Ia</td>\n",
       "      <td>0.547059</td>\n",
       "    </tr>\n",
       "    <tr>\n",
       "      <th>962</th>\n",
       "      <td>0.313333</td>\n",
       "      <td>0.253333</td>\n",
       "      <td>0.246667</td>\n",
       "      <td>0.186667</td>\n",
       "      <td>nonevent</td>\n",
       "      <td>0.482353</td>\n",
       "    </tr>\n",
       "    <tr>\n",
       "      <th>963</th>\n",
       "      <td>0.180000</td>\n",
       "      <td>0.280000</td>\n",
       "      <td>0.326667</td>\n",
       "      <td>0.213333</td>\n",
       "      <td>Ib</td>\n",
       "      <td>0.535294</td>\n",
       "    </tr>\n",
       "    <tr>\n",
       "      <th>964</th>\n",
       "      <td>0.373333</td>\n",
       "      <td>0.206667</td>\n",
       "      <td>0.193333</td>\n",
       "      <td>0.226667</td>\n",
       "      <td>nonevent</td>\n",
       "      <td>0.347059</td>\n",
       "    </tr>\n",
       "  </tbody>\n",
       "</table>\n",
       "<p>965 rows × 6 columns</p>\n",
       "</div>"
      ],
      "text/plain": [
       "     nonevent        Ia        Ib        II class4_RFC_pred         p\n",
       "0    0.186667  0.280000  0.313333  0.220000              Ib  0.523529\n",
       "1    0.320000  0.253333  0.246667  0.180000        nonevent  0.452941\n",
       "2    0.186667  0.280000  0.313333  0.220000              Ib  0.517647\n",
       "3    0.180000  0.280000  0.320000  0.220000              Ib  0.505882\n",
       "4    0.320000  0.240000  0.206667  0.233333        nonevent  0.423529\n",
       "..        ...       ...       ...       ...             ...       ...\n",
       "960  0.173333  0.280000  0.326667  0.220000              Ib  0.494118\n",
       "961  0.173333  0.306667  0.293333  0.226667              Ia  0.547059\n",
       "962  0.313333  0.253333  0.246667  0.186667        nonevent  0.482353\n",
       "963  0.180000  0.280000  0.326667  0.213333              Ib  0.535294\n",
       "964  0.373333  0.206667  0.193333  0.226667        nonevent  0.347059\n",
       "\n",
       "[965 rows x 6 columns]"
      ]
     },
     "execution_count": 217,
     "metadata": {},
     "output_type": "execute_result"
    }
   ],
   "source": [
    "# Final raw output for answers.csv\n",
    "\n",
    "y_4_pred_df"
   ]
  },
  {
   "cell_type": "code",
   "execution_count": 218,
   "metadata": {},
   "outputs": [],
   "source": [
    "y_4_pred_df.to_csv('raw_answers.csv', index=False)"
   ]
  },
  {
   "cell_type": "code",
   "execution_count": 219,
   "metadata": {},
   "outputs": [],
   "source": [
    "y_4_pred_df[['class4_RFC_pred', 'p']].to_csv('answers.csv', index=False)"
   ]
  }
 ],
 "metadata": {
  "kernelspec": {
   "display_name": "Python 3",
   "language": "python",
   "name": "python3"
  },
  "language_info": {
   "codemirror_mode": {
    "name": "ipython",
    "version": 3
   },
   "file_extension": ".py",
   "mimetype": "text/x-python",
   "name": "python",
   "nbconvert_exporter": "python",
   "pygments_lexer": "ipython3",
   "version": "3.7.9"
  }
 },
 "nbformat": 4,
 "nbformat_minor": 4
}
