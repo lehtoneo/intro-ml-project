{
 "cells": [
  {
   "cell_type": "code",
   "execution_count": 1,
   "metadata": {},
   "outputs": [],
   "source": [
    "import pandas as pd\n",
    "import numpy as np\n",
    "import matplotlib.pyplot as plt\n",
    "import seaborn as sns\n",
    "\n",
    "import sklearn.preprocessing\n",
    "import sklearn.decomposition\n",
    "import sklearn.model_selection\n",
    "import sklearn.svm\n",
    "import sklearn.inspection\n",
    "import sklearn.feature_selection\n",
    "from sklearn.experimental import enable_halving_search_cv"
   ]
  },
  {
   "cell_type": "code",
   "execution_count": 5,
   "metadata": {},
   "outputs": [],
   "source": [
    "import sklearn.pipeline\n",
    "import sklearn.ensemble"
   ]
  },
  {
   "cell_type": "code",
   "execution_count": 2,
   "metadata": {},
   "outputs": [],
   "source": [
    "df = pd.read_csv('npf_train.csv')\n",
    "\n",
    "class2 = np.array([\"event\"]*df.shape[0],dtype=\"object\")\n",
    "class2[df[\"class4\"]==\"nonevent\"] = \"nonevent\"\n",
    "df[\"class2\"] = class2\n",
    "df[\"class2\"] = df[\"class2\"].astype(\"category\")\n",
    "\n",
    "not_needed_columns = [\"partlybad\", \"id\", \"date\"]\n",
    "df = df.drop(not_needed_columns, axis=1)\n",
    "\n",
    "class2_categories = {\n",
    "    \"nonevent\": 0,\n",
    "    \"event\": 1\n",
    "}\n",
    "\n",
    "class4_categories = {\n",
    "    \"nonevent\": 0,\n",
    "    \"Ia\": 1,\n",
    "    \"Ib\": 2,\n",
    "    \"II\": 3\n",
    "}\n",
    "\n",
    "def categorize_class2(row):\n",
    "    row[\"class2\"] = class2_categories[row[\"class2\"]]\n",
    "    \n",
    "    return row\n",
    "def categorize_class4(row):\n",
    "    row[\"class4\"] = class4_categories[row[\"class4\"]]\n",
    "    \n",
    "    return row\n",
    "\n",
    "df = df.apply(lambda row: categorize_class2(row), axis=1)\n",
    "df = df.apply(lambda row: categorize_class4(row), axis=1)\n",
    "df[\"class2\"] = df[\"class2\"].astype(\"category\")\n",
    "df[\"class4\"] = df[\"class4\"].astype(\"category\")"
   ]
  },
  {
   "cell_type": "code",
   "execution_count": 3,
   "metadata": {},
   "outputs": [],
   "source": [
    "X_df = df.loc[:, ~df.columns.isin(['class2', 'class4'])].copy()\n",
    "Y_2 = df['class2'].copy()\n",
    "Y_4 = df['class4'].copy()\n",
    "\n",
    "X = X_df.values\n",
    "y_2 = Y_2.values\n",
    "y_4 = Y_4.values"
   ]
  },
  {
   "cell_type": "code",
   "execution_count": 15,
   "metadata": {},
   "outputs": [
    {
     "data": {
      "text/plain": [
       "Pipeline(steps=[('scaler', StandardScaler()),\n",
       "                ('feature_selection',\n",
       "                 RFECV(cv=10,\n",
       "                       estimator=LinearSVC(C=0.75, dual=False, max_iter=100000,\n",
       "                                           penalty='l1', random_state=0),\n",
       "                       scoring='accuracy'))])"
      ]
     },
     "execution_count": 15,
     "metadata": {},
     "output_type": "execute_result"
    }
   ],
   "source": [
    "# Feature selection using Recursive feature elimination with cross-validation\n",
    "\n",
    "def feature_selection_RFE(X, y):\n",
    "    pipeline_rfe = sklearn.pipeline.Pipeline(\n",
    "                        [('scaler', sklearn.preprocessing.StandardScaler()), \n",
    "                        ('feature_selection', sklearn.feature_selection.RFECV(\n",
    "                                                estimator=sklearn.svm.LinearSVC(penalty=\"l1\", C=0.75, \n",
    "                                                max_iter=10**5, dual=False, random_state=0), \n",
    "                                                step=1, cv=10, scoring=\"accuracy\", min_features_to_select=1))]\n",
    "    )\n",
    "    \n",
    "    pipeline_rfe.fit(X, y)\n",
    "    return pipeline_rfe"
   ]
  },
  {
   "cell_type": "code",
   "execution_count": 32,
   "metadata": {
    "scrolled": false
   },
   "outputs": [
    {
     "name": "stdout",
     "output_type": "stream",
     "text": [
      "Best number of features:  16\n"
     ]
    },
    {
     "data": {
      "image/png": "[encoded data removed]",
      "text/plain": [
       "<Figure size 720x432 with 1 Axes>"
      ]
     },
     "metadata": {
      "needs_background": "light"
     },
     "output_type": "display_data"
    }
   ],
   "source": [
    "pipeline_rfe_c2 = feature_selection_RFE(X, y_2)\n",
    "\n",
    "fig, ax = plt.subplots(figsize=(10, 6))\n",
    "sns.lineplot(x=range(1, len(pipeline_rfe_c2[1].cv_results_['mean_test_score'])+1), \n",
    "             y=pipeline_rfe_c2[1].cv_results_['mean_test_score'], label='LinearSVC', ax=ax)\n",
    "ax.set_xlabel('Number of features selected')\n",
    "ax.set_ylabel('Cross validation score (accuracy)')\n",
    "ax.axvline(x=16, c='r')\n",
    "\n",
    "print('Best number of features: ', np.argmax(pipeline_rfe_c2[1].cv_results_['mean_test_score'])+1)"
   ]
  },
  {
   "cell_type": "code",
   "execution_count": 33,
   "metadata": {},
   "outputs": [
    {
     "name": "stdout",
     "output_type": "stream",
     "text": [
      "Selected features:  ['CO2336.std' 'H2O336.std' 'H2O42.std' 'H2O504.mean' 'NOx672.mean'\n",
      " 'O3672.mean' 'PAR.mean' 'PAR.std' 'RHIRGA168.std' 'RHIRGA672.mean'\n",
      " 'SWS.mean' 'SWS.std' 'T42.std' 'T672.std' 'UV_A.mean' 'CS.mean']\n"
     ]
    }
   ],
   "source": [
    "# Selected features\n",
    "\n",
    "selected_features_rfe = pipeline_rfe.get_feature_names_out(X_df.columns)\n",
    "selected_features_idx_rfe = np.array([list(X_df.columns).index(i) for i in selected_features_rfe])\n",
    "\n",
    "print('Selected features: ', selected_features_rfe)"
   ]
  },
  {
   "cell_type": "code",
   "execution_count": 36,
   "metadata": {},
   "outputs": [],
   "source": [
    "X_selected = X[:, selected_features_idx_rfe]"
   ]
  },
  {
   "cell_type": "code",
   "execution_count": 40,
   "metadata": {},
   "outputs": [
    {
     "data": {
      "text/plain": [
       "HalvingGridSearchCV(cv=10,\n",
       "                    estimator=Pipeline(steps=[('scaler', StandardScaler()),\n",
       "                                              ('clf',\n",
       "                                               RandomForestClassifier(random_state=0))]),\n",
       "                    n_jobs=4,\n",
       "                    param_grid={'clf__criterion': ['gini', 'entropy'],\n",
       "                                'clf__n_estimators': array([ 10,  20,  30,  40,  50,  60,  70,  80,  90, 100, 110, 120, 130,\n",
       "       140, 150, 160, 170, 180, 190, 200])})"
      ]
     },
     "execution_count": 40,
     "metadata": {},
     "output_type": "execute_result"
    }
   ],
   "source": [
    "# Selected classifier: RandomForestClassifier\n",
    "\n",
    "pipeline_rf = sklearn.pipeline.Pipeline(\n",
    "                [('scaler', sklearn.preprocessing.StandardScaler()), \n",
    "                 #(\"feature_selection\", sklearn.feature_selection.RFECV(\n",
    "                 #                        estimator=sklearn.svm.LinearSVC(penalty=\"l1\", C=0.75, max_iter=10**5,\n",
    "                 #                                                        dual=False, random_state=0), \n",
    "                 #                        cv=10, scoring=\"accuracy\")), \n",
    "                 ('clf', sklearn.ensemble.RandomForestClassifier(random_state=0))]\n",
    "    )\n",
    "\n",
    "param_grid = {'clf__n_estimators':np.arange(10, 210, 10), 'clf__criterion':['gini', 'entropy']}\n",
    "param_search = sklearn.model_selection.HalvingGridSearchCV(pipeline_rf, param_grid, cv=10, n_jobs=4)\n",
    "\n",
    "param_search.fit(X_selected, y_2)"
   ]
  },
  {
   "cell_type": "code",
   "execution_count": 44,
   "metadata": {},
   "outputs": [
    {
     "name": "stdout",
     "output_type": "stream",
     "text": [
      "Best RFC model:  {'clf__criterion': 'gini', 'clf__n_estimators': 80} 0.8685714285714287\n"
     ]
    }
   ],
   "source": [
    "print('Best RFC model: ', param_search.best_params_, param_search.best_score_)"
   ]
  },
  {
   "cell_type": "code",
   "execution_count": 50,
   "metadata": {},
   "outputs": [],
   "source": [
    "pipeline_rf_best = sklearn.pipeline.Pipeline(\n",
    "                        [('scaler', sklearn.preprocessing.StandardScaler()), \n",
    "                         ('clf', sklearn.ensemble.RandomForestClassifier(n_estimators=80, random_state=0))]\n",
    "    )\n",
    "\n",
    "cv_scores_c2 = sklearn.model_selection.cross_val_score(pipeline_rf_best, X_selected, y_2, cv=10)"
   ]
  },
  {
   "cell_type": "code",
   "execution_count": 51,
   "metadata": {},
   "outputs": [
    {
     "name": "stdout",
     "output_type": "stream",
     "text": [
      "class2 accuracy:  0.8646376811594203\n"
     ]
    }
   ],
   "source": [
    "# Print accuracy\n",
    "\n",
    "print('class2 accuracy: ', np.mean(cv_scores_c2))"
   ]
  },
  {
   "cell_type": "code",
   "execution_count": 52,
   "metadata": {},
   "outputs": [],
   "source": [
    "# class4\n",
    "\n",
    "cv_scores_c4 = sklearn.model_selection.cross_val_score(pipeline_rf_best, X_selected, y_4, cv=10)"
   ]
  },
  {
   "cell_type": "code",
   "execution_count": 55,
   "metadata": {},
   "outputs": [
    {
     "name": "stdout",
     "output_type": "stream",
     "text": [
      "class2 accuracy:  0.6483091787439613\n"
     ]
    }
   ],
   "source": [
    "# Print accuracy\n",
    "\n",
    "print('class2 accuracy: ', np.mean(cv_scores_c4))"
   ]
  },
  {
   "cell_type": "markdown",
   "metadata": {},
   "source": [
    "## Producing answers.csv"
   ]
  },
  {
   "cell_type": "code",
   "execution_count": 56,
   "metadata": {},
   "outputs": [],
   "source": [
    "test_df = pd.read_csv('./npf_test_hidden.csv')"
   ]
  },
  {
   "cell_type": "code",
   "execution_count": 59,
   "metadata": {},
   "outputs": [],
   "source": [
    "X_test_df = test_df[X_df.columns].copy()\n",
    "X_test = test_df[X_df.columns].values\n",
    "X_test_sel = test_df[selected_features_rfe].values"
   ]
  },
  {
   "cell_type": "code",
   "execution_count": null,
   "metadata": {},
   "outputs": [],
   "source": [
    "# Feature selection for class4\n",
    "\n",
    "pipeline_rfe.fit(X, y_4)"
   ]
  }
 ],
 "metadata": {
  "kernelspec": {
   "display_name": "Python 3",
   "language": "python",
   "name": "python3"
  },
  "language_info": {
   "codemirror_mode": {
    "name": "ipython",
    "version": 3
   },
   "file_extension": ".py",
   "mimetype": "text/x-python",
   "name": "python",
   "nbconvert_exporter": "python",
   "pygments_lexer": "ipython3",
   "version": "3.7.9"
  }
 },
 "nbformat": 4,
 "nbformat_minor": 4
}
